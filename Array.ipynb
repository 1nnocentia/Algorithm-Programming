{
  "nbformat": 4,
  "nbformat_minor": 0,
  "metadata": {
    "colab": {
      "provenance": []
    },
    "kernelspec": {
      "name": "python3",
      "display_name": "Python 3"
    },
    "language_info": {
      "name": "python"
    }
  },
  "cells": [
    {
      "cell_type": "markdown",
      "source": [
        "<h1>Innocentia Handani <br>\n",
        "0806022410010</h1>"
      ],
      "metadata": {
        "id": "TOU2gA7NAD0h"
      }
    },
    {
      "cell_type": "markdown",
      "source": [
        "#Latihan 1"
      ],
      "metadata": {
        "id": "8NnumF4Q0OMP"
      }
    },
    {
      "cell_type": "code",
      "source": [
        "i = int(input('Jumlah teman : '))\n",
        "nama_teman = []\n",
        "j = 0\n",
        "\n",
        "for teman in range(i):\n",
        "  nama = input(f\"Nama teman-{teman+1} : \")\n",
        "  nama_teman.append(nama)\n",
        "\n",
        "print(f\"Jumlah teman anda {i} :\")\n",
        "\n",
        "for nama in nama_teman:\n",
        "  print(f\"{j+1}. {nama}\")\n",
        "  j += 1"
      ],
      "metadata": {
        "colab": {
          "base_uri": "https://localhost:8080/"
        },
        "id": "gO6qVJ44xIzK",
        "outputId": "d0eab265-9978-4ad2-a4b3-bccba32d1b01"
      },
      "execution_count": null,
      "outputs": [
        {
          "output_type": "stream",
          "name": "stdout",
          "text": [
            "Jumlah teman : 2\n",
            "Nama teman-1 : Budi\n",
            "Nama teman-2 : Bambang\n",
            "Jumlah teman anda 2 :\n",
            "1. Budi\n",
            "2. Bambang\n"
          ]
        }
      ]
    },
    {
      "cell_type": "markdown",
      "source": [
        "#Latihan 2"
      ],
      "metadata": {
        "id": "TlX3Plcf0PqX"
      }
    },
    {
      "cell_type": "code",
      "source": [
        "import pandas as pd"
      ],
      "metadata": {
        "id": "MgvFRLx64YIV"
      },
      "execution_count": null,
      "outputs": []
    },
    {
      "cell_type": "code",
      "source": [
        "i = int(input('Jumlah Mahasiswa :'))\n",
        "data = []\n",
        "\n",
        "for x in range(i):\n",
        "  print(f\"Data Mahasiswa {x+1}\")\n",
        "  nim = (input(f\"NIM : \"))\n",
        "  nama = (input(f\"Nama : \"))\n",
        "  jurusan = (input(f\"Jurusan : \"))\n",
        "\n",
        "  #dictionary\n",
        "  mahasiswa = {\n",
        "      ' NIM ' : nim,\n",
        "      ' Nama ' : nama,\n",
        "      ' Jurusan ' : jurusan\n",
        "  }\n",
        "  data.append(mahasiswa)\n"
      ],
      "metadata": {
        "colab": {
          "base_uri": "https://localhost:8080/"
        },
        "id": "X_N8p6Vt0QbH",
        "outputId": "f0cdea61-66a7-47eb-f902-0b3c6a8d208c"
      },
      "execution_count": null,
      "outputs": [
        {
          "name": "stdout",
          "output_type": "stream",
          "text": [
            "Jumlah Mahasiswa :2\n",
            "Data Mahasiswa 1\n",
            "NIM : 0201238210\n",
            "Nama : Budi\n",
            "Jurusan : Informatika\n",
            "Data Mahasiswa 2\n",
            "NIM : 0801238210\n",
            "Nama : Bambang\n",
            "Jurusan : IBM\n"
          ]
        }
      ]
    },
    {
      "cell_type": "code",
      "source": [
        "df = pd.DataFrame(data)\n",
        "print(\"DATA MAHASISWA YANG DIMASUKKAN\")\n",
        "print('---------------------------------')\n",
        "print(df.to_string(index=False))"
      ],
      "metadata": {
        "colab": {
          "base_uri": "https://localhost:8080/"
        },
        "id": "kb2fc1it8jjy",
        "outputId": "cf1482a2-ac8b-4ce1-f748-9216ead86693"
      },
      "execution_count": null,
      "outputs": [
        {
          "output_type": "stream",
          "name": "stdout",
          "text": [
            "DATA MAHASISWA YANG DIMASUKKAN\n",
            "---------------------------------\n",
            "      NIM    Nama     Jurusan \n",
            "0201238210    Budi Informatika\n",
            "0801238210 Bambang         IBM\n"
          ]
        }
      ]
    },
    {
      "cell_type": "code",
      "source": [],
      "metadata": {
        "id": "0eXkBlGa8uay"
      },
      "execution_count": null,
      "outputs": []
    }
  ]
}